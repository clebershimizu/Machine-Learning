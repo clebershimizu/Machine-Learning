{
 "cells": [
  {
   "cell_type": "code",
   "execution_count": 3,
   "metadata": {},
   "outputs": [],
   "source": [
    "import numpy as np"
   ]
  },
  {
   "cell_type": "code",
   "execution_count": 3,
   "metadata": {},
   "outputs": [
    {
     "data": {
      "text/plain": [
       "array([[0.53604546],\n",
       "       [0.01169917],\n",
       "       [0.82355887],\n",
       "       [0.6097695 ],\n",
       "       [0.39704521]])"
      ]
     },
     "execution_count": 3,
     "metadata": {},
     "output_type": "execute_result"
    }
   ],
   "source": [
    "def randomization(n):\n",
    "    A = np.random.random([n,1])\n",
    "    return(A)\n",
    "randomization(5)\n"
   ]
  },
  {
   "cell_type": "code",
   "execution_count": 7,
   "metadata": {},
   "outputs": [
    {
     "data": {
      "text/plain": [
       "(array([[0.60000868, 0.06616777, 0.89771189, 0.10290579, 0.90856044],\n",
       "        [0.47292355, 0.12827581, 0.39650492, 0.77689264, 0.28672927],\n",
       "        [0.61836739, 0.48059726, 0.30204543, 0.87323934, 0.9747773 ]]),\n",
       " array([[0.74516487, 0.86628559, 0.90381739, 0.88471326, 0.67219473],\n",
       "        [0.25762833, 0.49802359, 0.08295977, 0.3405039 , 0.09756802],\n",
       "        [0.65232752, 0.07364231, 0.22366838, 0.29999709, 0.32976381]]),\n",
       " array([[1.34517355, 0.93245336, 1.80152928, 0.98761905, 1.58075517],\n",
       "        [0.73055188, 0.6262994 , 0.47946469, 1.11739654, 0.38429729],\n",
       "        [1.27069491, 0.55423957, 0.52571382, 1.17323643, 1.30454112]]))"
      ]
     },
     "execution_count": 7,
     "metadata": {},
     "output_type": "execute_result"
    }
   ],
   "source": [
    "def operations(h, w):\n",
    "    A = np.random.random([h, w])\n",
    "    B = np.random.random([h, w])\n",
    "\n",
    "    s = A + B\n",
    "\n",
    "    return (A, B, s) \n",
    "operations(3, 5)\n"
   ]
  },
  {
   "cell_type": "code",
   "execution_count": 8,
   "metadata": {},
   "outputs": [
    {
     "data": {
      "text/plain": [
       "25.495097567963924"
      ]
     },
     "execution_count": 8,
     "metadata": {},
     "output_type": "execute_result"
    }
   ],
   "source": [
    "def norm(A, B):\n",
    "    s = np.linalg.norm(A+B)\n",
    "    return s\n",
    "norm([[1, 2, 3], [4, 5, 6]], [[7,8,9], [10, 11, 12]])"
   ]
  },
  {
   "cell_type": "code",
   "execution_count": 24,
   "metadata": {},
   "outputs": [
    {
     "name": "stdout",
     "output_type": "stream",
     "text": [
      "[[0.61062525]]\n"
     ]
    },
    {
     "data": {
      "text/plain": [
       "array([[0.61062525]])"
      ]
     },
     "execution_count": 24,
     "metadata": {},
     "output_type": "execute_result"
    }
   ],
   "source": [
    "import numpy as np\n",
    "def neural_network(inputs, weights):\n",
    "\n",
    "  weightsT = np.transpose(weights)\n",
    "  _out = np.matmul(weightsT, inputs)\n",
    "\n",
    "  out = np.tanh(_out)\n",
    "  return out\n",
    "\n",
    "inputs = [[0.28482398], [0.72773168]]\n",
    "weights = [[0.34834978], [0.83918207]]\n",
    "neural_network(inputs, weights)"
   ]
  },
  {
   "cell_type": "code",
   "execution_count": 27,
   "metadata": {},
   "outputs": [
    {
     "data": {
      "text/plain": [
       "45"
      ]
     },
     "execution_count": 27,
     "metadata": {},
     "output_type": "execute_result"
    }
   ],
   "source": [
    "def scalar_function(x, y):\n",
    "    if x <= y: return x * y\n",
    "    elif x > y: return x/y\n",
    "\n",
    "scalar_function(5,9)\n"
   ]
  },
  {
   "cell_type": "code",
   "execution_count": 29,
   "metadata": {},
   "outputs": [],
   "source": [
    "def vector_function(x, y):\n",
    "    def scalar_function(x, y):\n",
    "        if x <= y: return x * y\n",
    "        elif x > y: return x/y\n",
    "    \n",
    "    funct = np.vectorize(scalar_function)\n",
    "    \n",
    "    return funct(x, y)"
   ]
  }
 ],
 "metadata": {
  "kernelspec": {
   "display_name": "6.86x",
   "language": "python",
   "name": "python3"
  },
  "language_info": {
   "codemirror_mode": {
    "name": "ipython",
    "version": 3
   },
   "file_extension": ".py",
   "mimetype": "text/x-python",
   "name": "python",
   "nbconvert_exporter": "python",
   "pygments_lexer": "ipython3",
   "version": "3.6.13"
  },
  "orig_nbformat": 4,
  "vscode": {
   "interpreter": {
    "hash": "fe0efea32368fb6ebcc6f0d32ef13bc62834d8e327d38f86b5812e31a03f8204"
   }
  }
 },
 "nbformat": 4,
 "nbformat_minor": 2
}
